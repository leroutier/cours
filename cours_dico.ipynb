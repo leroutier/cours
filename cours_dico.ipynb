{
 "cells": [
  {
   "cell_type": "markdown",
   "metadata": {},
   "source": [
    "# Les dictionnaires"
   ]
  },
  {
   "cell_type": "markdown",
   "metadata": {},
   "source": [
    "Les dictionnaires est le troisième type construit que nous allons voir cette année, après les p-uplets et les listes.\n",
    "\n",
    "Comme les p-uplets et les listes, il s'agit d'un conteneur, dans lequel on peut trouver des variables de même type ou de type différent.\n",
    "\n",
    "Contrairement à un p-uplet ou à une liste, un dictionnaire n'est pas une séquance, c'est-à-dire que ses éléments ne sont pas repérés par leur place. Ils sont repérés par un identifiant qui leur est associé, qu'on appelle une *clé*.\n",
    "\n",
    "Un dictionnaire est délimité par des accolades, ses éléménts sont séparés par des virgules, le lien entre un élément et sa clé se fait à l'aide de \":\"."
   ]
  },
  {
   "cell_type": "code",
   "execution_count": null,
   "metadata": {},
   "outputs": [],
   "source": [
    "perso = {\"prenom\" : \"Bilbo\", \"age\" : 111}"
   ]
  },
  {
   "cell_type": "markdown",
   "metadata": {},
   "source": [
    "Pour accéder à une valeur, on doit la demander à l'aide de sa clé, il n'est pas possible de la demander à l'aide d'un indice."
   ]
  },
  {
   "cell_type": "code",
   "execution_count": null,
   "metadata": {},
   "outputs": [],
   "source": [
    "perso[0]"
   ]
  },
  {
   "cell_type": "code",
   "execution_count": null,
   "metadata": {},
   "outputs": [],
   "source": [
    "perso[\"prenom\"]"
   ]
  },
  {
   "cell_type": "markdown",
   "metadata": {},
   "source": [
    "La fonction **len** peut être utilisée pour savoir combien d'éléments comporte un dictionnaire."
   ]
  },
  {
   "cell_type": "code",
   "execution_count": null,
   "metadata": {},
   "outputs": [],
   "source": [
    "len(perso)"
   ]
  },
  {
   "cell_type": "markdown",
   "metadata": {},
   "source": [
    "Un dictionnaire est *mutable*, c'est-à-dire que ses éléments peuvent être modifiés, de nouveaux éléments peuvent être ajoutés ou des éléments existants peuvent être supprimés."
   ]
  },
  {
   "cell_type": "code",
   "execution_count": null,
   "metadata": {},
   "outputs": [],
   "source": [
    "perso[\"taille\"] = 112\n",
    "perso[\"age\"] = 131\n",
    "perso"
   ]
  },
  {
   "cell_type": "markdown",
   "metadata": {},
   "source": [
    "Pour itérer sur un dictionnaire, on peut itérer sur les clés, sur les valeurs ou sur les couples clés/valeurs."
   ]
  },
  {
   "cell_type": "code",
   "execution_count": null,
   "metadata": {},
   "outputs": [],
   "source": [
    "for cle in perso.keys():\n",
    "    print(cle)"
   ]
  },
  {
   "cell_type": "code",
   "execution_count": null,
   "metadata": {},
   "outputs": [],
   "source": [
    "for valeur in perso.values():\n",
    "    print(valeur)"
   ]
  },
  {
   "cell_type": "code",
   "execution_count": null,
   "metadata": {},
   "outputs": [],
   "source": [
    "for (cle, valeur) in perso.items():\n",
    "    print(cle, \"<-\", valeur)"
   ]
  },
  {
   "cell_type": "markdown",
   "metadata": {},
   "source": [
    "Si on ne précise rien, on itère par défaut sur les clés."
   ]
  },
  {
   "cell_type": "code",
   "execution_count": null,
   "metadata": {},
   "outputs": [],
   "source": [
    "for element in perso:\n",
    "    print(element)"
   ]
  }
 ],
 "metadata": {
  "kernelspec": {
   "display_name": "Python 3",
   "language": "python",
   "name": "python3"
  },
  "language_info": {
   "codemirror_mode": {
    "name": "ipython",
    "version": 3
   },
   "file_extension": ".py",
   "mimetype": "text/x-python",
   "name": "python",
   "nbconvert_exporter": "python",
   "pygments_lexer": "ipython3",
   "version": "3.7.3"
  }
 },
 "nbformat": 4,
 "nbformat_minor": 2
}
