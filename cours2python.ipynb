{
 "cells": [
  {
   "cell_type": "markdown",
   "metadata": {},
   "source": [
    "# Les séquences en Python"
   ]
  },
  {
   "cell_type": "markdown",
   "metadata": {},
   "source": [
    "Il est possible de \"stocker\" plusieurs grandeurs dans une même structure, ce type de structure est appelé une séquence. De façon plus précise, nous définirons une séquence comme un ensemble fini et ordonné d'éléments indicés de 0 à n-1 (si cette séquence comporte n éléments). Rassurez-vous, nous reviendrons ci-dessous sur cette définition. Nous allons étudier plus particulièrement 2 types de séquences : les tuples et les tableaux. "
   ]
  },
  {
   "cell_type": "markdown",
   "metadata": {},
   "source": [
    "## I/ Les tuples en Python"
   ]
  },
  {
   "cell_type": "code",
   "execution_count": null,
   "metadata": {},
   "outputs": [],
   "source": [
    "mon_tuple = (5, 8, 6, 9)"
   ]
  },
  {
   "cell_type": "markdown",
   "metadata": {},
   "source": [
    " Dans le code ci-dessus, la variable \"mon_tuple\" référence un tuple, ce tuple est constitué des entiers 5, 8, 6 et 9. Comme indiqué dans la définition, chaque élément du tuple est indicé (il possède un indice):\n",
    "* le premier élément du tuple (l'entier 5) possède l'indice 0\n",
    "* le deuxième élément du tuple (l'entier 8) possède l'indice 1\n",
    "* le troisième élément du tuple (l'entier 6) possède l'indice 2\n",
    "* le quatrième élément du tuple (l'entier 9) possède l'indice 3\n",
    "\n",
    "On accéde à l'élément d'indice i dans un tuple en utilisant la \"notation entre crochets\" : "
   ]
  },
  {
   "cell_type": "code",
   "execution_count": null,
   "metadata": {},
   "outputs": [],
   "source": [
    "a = mon_tuple[2]\n",
    "print(a)"
   ]
  },
  {
   "cell_type": "markdown",
   "metadata": {},
   "source": [
    "La variable mon_tuple référence le tuple (5, 8, 6, 9), la variable a référence l'entier 6 car cet entier 6 est bien le troisième élément du tuple, il possède donc l'indice 2."
   ]
  },
  {
   "cell_type": "markdown",
   "metadata": {},
   "source": [
    "/!\\ Dans les séquences les indices commencent toujours à 0 (le premier élément de la séquence a pour indice 0), oublier cette particularité est une source d'erreur \"classique\". "
   ]
  },
  {
   "cell_type": "markdown",
   "metadata": {},
   "source": [
    "Complétez le code ci-dessous (en remplaçant les ..) afin qu'après l'exécution de ce programme la variable a référence l'entier 8."
   ]
  },
  {
   "cell_type": "code",
   "execution_count": null,
   "metadata": {},
   "outputs": [],
   "source": [
    "a = mon_tuple[..]\n",
    "print(a)"
   ]
  },
  {
   "cell_type": "markdown",
   "metadata": {},
   "source": [
    "Un tuple ne contient pas forcément des nombres entiers, il peut aussi contenir des nombres décimaux, des chaînes de caractères, des booléens... "
   ]
  },
  {
   "cell_type": "markdown",
   "metadata": {},
   "source": [
    "Quel est le résultat attendu après l'exécution de ce programme ? Vérifiez votre hypothèse en le testant."
   ]
  },
  {
   "cell_type": "code",
   "execution_count": null,
   "metadata": {},
   "outputs": [],
   "source": [
    "mon_tuple = (\"le\", \"monde\", \"bonjour\")\n",
    "print(mon_tuple[2] + \" \" + mon_tuple[0] + \" \" + mon_tuple[1] + \"!\")"
   ]
  },
  {
   "cell_type": "markdown",
   "metadata": {},
   "source": [
    "Grâce au tuple, une fonction peut renvoyer plusieurs valeurs : "
   ]
  },
  {
   "cell_type": "code",
   "execution_count": null,
   "metadata": {},
   "outputs": [],
   "source": [
    "def add(a, b):\n",
    "    c = a + b\n",
    "    return (a, b, c)\n",
    "mon_tuple = add(5, 8)\n",
    "print(str(mon_tuple[0]) + \" + \" + str(mon_tuple[1]) + \" = \" + str(mon_tuple[2]))"
   ]
  },
  {
   "cell_type": "markdown",
   "metadata": {},
   "source": [
    "Il faut bien comprendre dans l'exemple ci-dessus que la variable mon_tuple référence un tuple (puisque la fonction \"add\" renvoie un tuple), d'où la \"notation entre crochets\" utilisée avec mon_tuple (mon_tuple[1]...) "
   ]
  },
  {
   "cell_type": "markdown",
   "metadata": {},
   "source": [
    "Il est possible d'assigner à des variables les valeurs contenues dans un tuple : "
   ]
  },
  {
   "cell_type": "code",
   "execution_count": null,
   "metadata": {},
   "outputs": [],
   "source": [
    "a, b, c, d = (5, 8, 6, 9)"
   ]
  },
  {
   "cell_type": "markdown",
   "metadata": {},
   "source": [
    "Quelle est la valeur référencée par la variable a ? La variable b ? La variable c ? La variable d ? Vérifiez votre réponse à l'aide de la cellule ci-dessous. "
   ]
  },
  {
   "cell_type": "code",
   "execution_count": null,
   "metadata": {},
   "outputs": [],
   "source": [
    "print(..)"
   ]
  },
  {
   "cell_type": "markdown",
   "metadata": {},
   "source": [
    "## II/ Les tableaux en Python"
   ]
  },
  {
   "cell_type": "markdown",
   "metadata": {},
   "source": [
    "### 1. Quelques méthodes"
   ]
  },
  {
   "cell_type": "markdown",
   "metadata": {},
   "source": [
    "/!\\ Dans la suite nous allons employer le terme \"tableau\". Pour parler de ces \"tableaux\" les concepteurs de Python ont choisi d'utiliser le terme de \"list\" (\"liste\" en français). Pour éviter toute confusion, notamment par rapport à des notions qui seront abordées en terminale, le choix a été fait d'employer \"tableau\" à la place de \"liste\" (dans la documentation Python vous rencontrerez le terme \"list\", cela ne devra pas vous pertuber) "
   ]
  },
  {
   "cell_type": "markdown",
   "metadata": {},
   "source": [
    "Il n'est pas possible de modifier un tuple après sa création (on parle d'objet \"immutable\"), si vous essayez de modifier un tuple existant, l'interpréteur Python vous renverra une erreur. Les tableaux sont, comme les tuples, des séquences, mais à la différence des tuples, ils sont modifiables (on parle d'objets \"mutables\"). "
   ]
  },
  {
   "cell_type": "markdown",
   "metadata": {},
   "source": [
    "Pour créer un tableau, il existe différentes méthodes : une de ces méthodes ressemble beaucoup à la création d'un tuple, mais avec des crochets à la place des parenthèses : "
   ]
  },
  {
   "cell_type": "code",
   "execution_count": null,
   "metadata": {},
   "outputs": [],
   "source": [
    "mon_tab = [5, 8, 6, 9]"
   ]
  },
  {
   "cell_type": "markdown",
   "metadata": {},
   "source": [
    "Un tableau est une séquence, il est donc possible de \"récupérer\" un élément d'un tableau à l'aide de son indice (de la même manière que pour un tuple). \n",
    "\n",
    "Quelle est la valeur référencée par la variable ma_variable après l'exécution du programme ci-dessous ? Vérifiez votre résultat en exécutant la cellule ci-dessous."
   ]
  },
  {
   "cell_type": "code",
   "execution_count": null,
   "metadata": {},
   "outputs": [],
   "source": [
    "ma_variable = mon_tab[2]\n",
    "print(ma_variable)"
   ]
  },
  {
   "cell_type": "markdown",
   "metadata": {},
   "source": [
    "Il est possible de modifier un tableau à l'aide de la \"notation entre crochets\". \n",
    "\n",
    "Quel est le contenu du tableau référencé par la variable mon_tab après l'exécution du programme ci-dessous ? Vérifiez votre résultat en exécutant la cellule ci-dessous."
   ]
  },
  {
   "cell_type": "code",
   "execution_count": null,
   "metadata": {},
   "outputs": [],
   "source": [
    "mon_tab[2] = 15\n",
    "print(mon_tab)"
   ]
  },
  {
   "cell_type": "markdown",
   "metadata": {},
   "source": [
    "Il est aussi possible d'ajouter un élément en fin de tableau à l'aide de la méthode **append**. \n",
    "\n",
    "Quel est le contenu du tableau référencé par la variable mon_tab après l'exécution du programme ci-dessous ? Vérifiez votre résultat en exécutant la cellule ci-dessous."
   ]
  },
  {
   "cell_type": "code",
   "execution_count": null,
   "metadata": {},
   "outputs": [],
   "source": [
    "mon_tab = [5, 8, 6, 9]\n",
    "mon_tab.append(15)\n",
    "print(mon_tab)"
   ]
  },
  {
   "cell_type": "markdown",
   "metadata": {},
   "source": [
    "L'instruction **del** permet de supprimer un élément d'un tableau en utilisant son indice. \n",
    "\n",
    "Quel est le contenu du tableau référencé par la variable mon_tab après l'exécution du programme ci-dessous ?"
   ]
  },
  {
   "cell_type": "code",
   "execution_count": null,
   "metadata": {},
   "outputs": [],
   "source": [
    "mon_tab = [5, 8, 6, 9]\n",
    "del mon_tab[1]\n",
    "print(mon_tab)"
   ]
  },
  {
   "cell_type": "markdown",
   "metadata": {},
   "source": [
    "La fonction **len** permet de connaitre le nombre d’éléments présents dans une séquence (tableau et tuple). \n",
    "\n",
    "Quelle est la valeur référencée par la variable nb_len après l'exécution du programme ci-dessous ?"
   ]
  },
  {
   "cell_type": "code",
   "execution_count": null,
   "metadata": {},
   "outputs": [],
   "source": [
    "mon_tab = [5, 8, 6, 9]\n",
    "nb_ele = len(mon_tab)\n",
    "print(nb_ele)"
   ]
  },
  {
   "cell_type": "markdown",
   "metadata": {},
   "source": [
    "### 2. La boucle **for** pour parcourir les éléments d'un tableau"
   ]
  },
  {
   "cell_type": "markdown",
   "metadata": {},
   "source": [
    "La boucle **for... in** permet de parcourir chacun des éléments d’une séquence (tableau ou tuple) :"
   ]
  },
  {
   "cell_type": "code",
   "execution_count": null,
   "metadata": {},
   "outputs": [],
   "source": [
    "mon_tab = [5, 8, 6, 9]\n",
    "for element in mon_tab:\n",
    "    print(element)"
   ]
  },
  {
   "cell_type": "markdown",
   "metadata": {},
   "source": [
    " Quelques explications : comme son nom l'indique, la boucle **for** est une boucle ! Nous \"sortirons\" de la boucle une fois que tous les éléments du tableau mon_tab auront été parcourus. **element** est une variable qui va :\n",
    "\n",
    "* au premier tour de boucle, référencer le premier élément du tableau (l'entier 5)\n",
    "* au deuxième tour de boucle, référencer le deuxième élément du tableau (l'entier 8)\n",
    "* au troisième tour de boucle, référencer le troisième élément du tableau (l'entier 6)\n",
    "* au quatrième tour de boucle, référencer le quatrième élément de le tableau (l'entier 9)\n",
    "\n",
    "Une chose importante à bien comprendre : le choix du nom de la variable qui va référencer les éléments du tableau les uns après les autres (element) est totalement arbitraire, il est possible de choisir un autre nom sans aucun problème, le code suivant donne exactement le même résultat que précédemment : "
   ]
  },
  {
   "cell_type": "code",
   "execution_count": null,
   "metadata": {},
   "outputs": [],
   "source": [
    "for toto in mon_tab:\n",
    "    print (toto)"
   ]
  },
  {
   "cell_type": "markdown",
   "metadata": {},
   "source": [
    " Il est possible d'utiliser la méthode **range** pour \"remplir\" un tableau. \n",
    " \n",
    " Quel est le contenu du tableau référencé par la variable mon_tab après l'exécution du programme ci-dessous ?"
   ]
  },
  {
   "cell_type": "code",
   "execution_count": null,
   "metadata": {},
   "outputs": [],
   "source": [
    "mon_tab = []\n",
    "for element in range(0, 5):\n",
    "    mon_tab.append(element)\n",
    "print(mon_tab)"
   ]
  },
  {
   "cell_type": "markdown",
   "metadata": {},
   "source": [
    "### 3. Créer un tableau par compréhension"
   ]
  },
  {
   "cell_type": "markdown",
   "metadata": {},
   "source": [
    " Nous avons vu qu'il était possible de \"remplir\" un tableau en renseignant les éléments du tableau les uns après les autres ou encore à l'aide de la méthode **append**. Il est aussi possible d'obtenir exactement le même résultat en une seule ligne grâce à la compréhension de tableau : "
   ]
  },
  {
   "cell_type": "code",
   "execution_count": null,
   "metadata": {},
   "outputs": [],
   "source": [
    "mon_tab = [p for p in range(0, 5)]\n",
    "print(mon_tab)"
   ]
  },
  {
   "cell_type": "markdown",
   "metadata": {},
   "source": [
    "Les compréhensions de tableau permettent de rajouter une condition (if) : "
   ]
  },
  {
   "cell_type": "code",
   "execution_count": null,
   "metadata": {},
   "outputs": [],
   "source": [
    "L = [1, 7, 9, 15, 5, 20, 10, 8]\n",
    "mon_tab = [p for p in L if p > 10]\n",
    "print(mon_tab)"
   ]
  },
  {
   "cell_type": "code",
   "execution_count": null,
   "metadata": {},
   "outputs": [],
   "source": [
    "L = [1, 7, 9, 15, 5, 20, 10, 8]\n",
    "mon_tab = [p**2 for p in L if p < 10]\n",
    "print(mon_tab)"
   ]
  },
  {
   "cell_type": "markdown",
   "metadata": {},
   "source": [
    "Nous obtenons un tableau (mon_tab) qui contient tous les éléments du tableau L élevés au carré à condition que ces éléments de L soient inférieurs à 10. Comme vous pouvez le constater, la compréhension de tableau permet d'obtenir des combinaisons relativement complexes."
   ]
  },
  {
   "cell_type": "markdown",
   "metadata": {},
   "source": [
    "### 4. Travailler sur des \"tableaux de tableaux\""
   ]
  },
  {
   "cell_type": "markdown",
   "metadata": {},
   "source": [
    " Chaque élément d'un tableau peut être un tableau, on parle de tableau de tableau. En voici un exemple : "
   ]
  },
  {
   "cell_type": "code",
   "execution_count": null,
   "metadata": {},
   "outputs": [],
   "source": [
    "m = [[1, 3, 4], [5 ,6 ,8], [2, 1, 3], [7, 8, 15]]"
   ]
  },
  {
   "cell_type": "markdown",
   "metadata": {},
   "source": [
    " Le premier élément du tableau ci-dessus est un tableau ([1, 3, 4]), le deuxième élément également ([5, 6, 8])...\n",
    "\n",
    "Il est souvent plus pratique de présenter ces \"tableaux de tableaux\" comme suit : "
   ]
  },
  {
   "cell_type": "code",
   "execution_count": null,
   "metadata": {},
   "outputs": [],
   "source": [
    "m = [[1, 3, 4],\n",
    "     [5, 6, 8],\n",
    "     [2, 1, 3],\n",
    "     [7, 8, 15]]"
   ]
  },
  {
   "cell_type": "markdown",
   "metadata": {},
   "source": [
    "Nous obtenons ainsi quelque chose qui ressemble beaucoup à un \"objet mathématique\" très utilisé : une matrice.\n",
    "\n",
    "Il est évidemment possible d'utiliser les indices de position avec ces \"tableaux de tableaux\". Pour cela nous allons considérer notre tableau de tableaux comme une matrice, c'est à dire en utilisant les notions de \"ligne\" et de \"colonne\". Dans la matrice ci-dessus :\n",
    "\n",
    "En ce qui concerne les lignes :\n",
    "- 1, 3, 4 constituent la première ligne\n",
    "- 5, 6, 8 constituent la deuxième ligne\n",
    "- 2, 1, 3 constituent la troisième ligne\n",
    "- 7, 8, 15 constituent la quatrième ligne\n",
    "\n",
    "En ce qui concerne les colonnes :\n",
    "- 1, 5, 2, 7 constituent la première colonne\n",
    "- 3, 6, 1, 8 constituent la deuxième colonne\n",
    "- 4, 8, 3, 15 constituent la troisième colonne\n",
    "\n",
    "Pour cibler un élément particulier de la matrice, on utilise la notation avec \"doubles crochets\" : m[ligne][colonne] (sans perdre de vue que la première ligne et la première colonne ont pour indice 0). \n",
    "\n",
    "Quelle est la valeur référencée par la variable a après l'exécution du programme ci-dessous ?"
   ]
  },
  {
   "cell_type": "code",
   "execution_count": null,
   "metadata": {},
   "outputs": [],
   "source": [
    "a = m[1][2]\n",
    "print(a)"
   ]
  },
  {
   "cell_type": "markdown",
   "metadata": {},
   "source": [
    "Comme vous pouvez le constater, la variable a référence bien l'entier situé à la 2e ligne (indice 1) et à la 3e colonne (indice 2), c'est-à-dire 8. "
   ]
  },
  {
   "cell_type": "markdown",
   "metadata": {},
   "source": [
    "Il est possible de parcourir l'ensemble des éléments d'une matrice à l'aide d'une \"double boucle for\" : "
   ]
  },
  {
   "cell_type": "code",
   "execution_count": null,
   "metadata": {},
   "outputs": [],
   "source": [
    "nb_colonne = 3\n",
    "nb_ligne = 4\n",
    "for i in range(0, nb_ligne):\n",
    "    for j in range(0, nb_colonne):\n",
    "        a = m[i][j]\n",
    "        print(a)"
   ]
  },
  {
   "cell_type": "markdown",
   "metadata": {},
   "source": [
    "### 5. Attention à la mutabilité des tableaux"
   ]
  },
  {
   "cell_type": "code",
   "execution_count": null,
   "metadata": {},
   "outputs": [],
   "source": [
    "m = [1, 2, 3]\n",
    "mm = [m, m, m]\n",
    "m[0] = 100\n",
    "print(mm)"
   ]
  },
  {
   "cell_type": "markdown",
   "metadata": {},
   "source": [
    "Comme vous pouvez le constater, la modification du tableau référencé par la variable m entraine la modification du tableau référencé par la variable mm (alors que nous n'avons pas directement modifié le tableau référencé par mm). Il faut donc être très prudent lors de ce genre de manipulation afin d'éviter des modifications non désirées. "
   ]
  }
 ],
 "metadata": {
  "kernelspec": {
   "display_name": "Python 3",
   "language": "python",
   "name": "python3"
  },
  "language_info": {
   "codemirror_mode": {
    "name": "ipython",
    "version": 3
   },
   "file_extension": ".py",
   "mimetype": "text/x-python",
   "name": "python",
   "nbconvert_exporter": "python",
   "pygments_lexer": "ipython3",
   "version": "3.7.3"
  }
 },
 "nbformat": 4,
 "nbformat_minor": 2
}
