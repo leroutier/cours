{
 "cells": [
  {
   "cell_type": "code",
   "execution_count": null,
   "metadata": {
    "collapsed": true
   },
   "outputs": [],
   "source": [
    "def nb_voyelles(mot):\n",
    "    # A completer (et supprimer pass)\n",
    "    pass\n",
    "\n",
    "\n",
    "langue = {\"hiver\":\"fr\", \"loup\":\"fr\", \"reines\":\"fr\", \"nordique\":\"fr\",\n",
    "    \"winter\":\"al\", \"schloss\":\"al\", \"koniginnen\":\"al\", \"nordisch\":\"al\"}\n",
    "\n",
    "\n",
    "def proches_voisins(echantillon, mot_mystere, k):\n",
    "\n",
    "    def distance(mot):\n",
    "        \"\"\"Renvoie la distance entre un mot et le mot_mystere\"\"\"\n",
    "        return math.sqrt((len(mot) - len(mot_mystere))**2 +\n",
    "            (nb_voyelles(mot) - nb_voyelles(mot_mystere))**2)\n",
    "\n",
    "    mots_tries = sorted(echantillon, key = distance)\n",
    "    voisins = {}\n",
    "    for i in range(k):\n",
    "        mot = mots_tries[i]\n",
    "        voisins[mot] = echantillon[mot]\n",
    "    return voisins\n",
    "\n",
    "\n",
    "def prediction(echantillon, mot, k):\n",
    "    \"\"\"Renvoie l'origine probable d'un mot à partir d'un echantillon\n",
    "    grace a l'algorithme des k-plus proches voisins\"\"\"\n",
    "    voisins = proches_voisins(echantillon, mot, k)\n",
    "    return origine_majoritaire(voisins)\n",
    "\n",
    "\n",
    "def origine_majoritaire(echantillon):\n",
    "    \"\"\"Le parametre echantillon est un dictionnaire dont les clefs\n",
    "    sont des mots et les valeurs sont 'fr' ou 'al'.\n",
    "    Renvoie la valeur majoritaire ('fr' ou 'al') ou None si égalité\"\"\"\n",
    "    # A completer (et supprimer pass)\n",
    "    pass"
   ]
  }
 ],
 "metadata": {
  "kernelspec": {
   "display_name": "Python 3",
   "language": "python",
   "name": "python3"
  },
  "language_info": {
   "codemirror_mode": {
    "name": "ipython",
    "version": 3
   },
   "file_extension": ".py",
   "mimetype": "text/x-python",
   "name": "python",
   "nbconvert_exporter": "python",
   "pygments_lexer": "ipython3",
   "version": "3.4.5"
  }
 },
 "nbformat": 4,
 "nbformat_minor": 2
}
