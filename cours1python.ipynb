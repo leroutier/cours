{
 "cells": [
  {
   "cell_type": "markdown",
   "metadata": {},
   "source": [
    "# Première prise en main de Python"
   ]
  },
  {
   "cell_type": "markdown",
   "metadata": {},
   "source": [
    "Python est un langage de programmation, comme l'est aussi Scratch.\n",
    "Contrairement à Scratch cependant, Python ne fonctionne pas à l'aide de blocs.\n",
    "En Python, tout ce qui était fait par des blocs en Scratch est écrit au clavier, et il faut connaître les noms des commandes qu'on veut utiliser."
   ]
  },
  {
   "cell_type": "markdown",
   "metadata": {},
   "source": [
    "## I/ Les variables"
   ]
  },
  {
   "cell_type": "markdown",
   "metadata": {},
   "source": [
    "### 1. Affectation"
   ]
  },
  {
   "cell_type": "markdown",
   "metadata": {},
   "source": [
    "Une variable correspond à une \"case mémoire\" dans l'ordinateur qui porte un nom (qui ne doit pas comporter d'espace, d'accent, de caractères spéciaux et ne doit pas commencer par un chiffre) et qui peut contenir une valeur, qui sera *affectée* dans la variable grâce au symbole =."
   ]
  },
  {
   "cell_type": "markdown",
   "metadata": {},
   "source": [
    "*(Pour voir comment cela se passe, cliquer sur la case ci-dessous, puis sur le bouton exécuter. Faire ceci pour toutes les cases au fur et à mesure de votre lecture, en respectant bien l'ordre.)*"
   ]
  },
  {
   "cell_type": "code",
   "execution_count": null,
   "metadata": {},
   "outputs": [],
   "source": [
    "a = 1\n",
    "asterix = -3\n",
    "obelix_porte2menhirs = 5.2"
   ]
  },
  {
   "cell_type": "markdown",
   "metadata": {},
   "source": [
    "Êtes-vous surpris que rien ne se soit passé ? C'est normal car nous avons bien stocké trois variables, mais nous n'avons pas demandé au logiciel de nous montrer ce que nous avons fait !"
   ]
  },
  {
   "cell_type": "markdown",
   "metadata": {},
   "source": [
    "### 2. Affichage"
   ]
  },
  {
   "cell_type": "markdown",
   "metadata": {},
   "source": [
    "Les variables ont été stockées précédemment, pour les afficher on utilise la commande **print**(nom_de_la_variable)."
   ]
  },
  {
   "cell_type": "code",
   "execution_count": null,
   "metadata": {},
   "outputs": [],
   "source": [
    "print(a)\n",
    "print(asterix)\n",
    "print(obelix_porte2menhirs)"
   ]
  },
  {
   "cell_type": "markdown",
   "metadata": {},
   "source": [
    "### 3. Type des variables"
   ]
  },
  {
   "cell_type": "markdown",
   "metadata": {},
   "source": [
    "Les variables peuvent être de différents types :\n",
    "* des variables *entières*, qui correspondent aux entiers relatifs que vous connaissez déjà\n",
    "* des variables *nombres à virgule flottante*, qui correspondent globalement aux valeurs (parfois approchées) décimales des nombres, (c'est la notation anglo-saxonne qui est utilisée, où le point tient lieu de virgule)\n",
    "* des variables *booléennes*, qui sont des variables qui ne peuvent prendre que deux valeurs : vrai ou faux, qui s'appelleront **True** et **False** (/!\\ avec la majuscule)\n",
    "* des variables *chaînes de caractères*, qui stockent du texte, et doivent être notées entre guillemets (guillemets simples ou doubles peu importe) pour ne pas être confondues avec un nom de variable."
   ]
  },
  {
   "cell_type": "markdown",
   "metadata": {},
   "source": [
    "On peut obtenir les types des variables grâce à la commande **type**(nom_de_la_variable).\n",
    "Pouvez-vous prédire la sortie de la case suivante ?"
   ]
  },
  {
   "cell_type": "code",
   "execution_count": null,
   "metadata": {},
   "outputs": [],
   "source": [
    "type(a),type(asterix),type(obelix_porte2menhirs)"
   ]
  },
  {
   "cell_type": "markdown",
   "metadata": {},
   "source": [
    "* **int** pour *integer* qui est la traduction anglaise pour *entier*.\n",
    "* **float** pour *floating point number*.\n",
    "* **bool** pour *boolean*.\n",
    "* **str** pour *string* qui signifie en anglais *chaîne de caractères*."
   ]
  },
  {
   "cell_type": "code",
   "execution_count": null,
   "metadata": {},
   "outputs": [],
   "source": [
    "idefix = True\n",
    "cesar = \"cleopatre\"\n",
    "type(idefix), type(cesar)"
   ]
  },
  {
   "cell_type": "markdown",
   "metadata": {},
   "source": [
    "/!\\ Ne pas oublier les guillemets pour les chaînes de caractères, sans quoi vous allez rencontrer une erreur."
   ]
  },
  {
   "cell_type": "code",
   "execution_count": null,
   "metadata": {},
   "outputs": [],
   "source": [
    "cesar = cleopatre"
   ]
  },
  {
   "cell_type": "markdown",
   "metadata": {},
   "source": [
    "Les types de variables sont une source régulière d'erreurs, qui sont alors indiquée par le mot-clé **TypeError**.\n",
    "Par exemple, si j'essaye de diviser une chaîne de caractères par le nombre 2 :"
   ]
  },
  {
   "cell_type": "code",
   "execution_count": null,
   "metadata": {},
   "outputs": [],
   "source": [
    "cesar/2"
   ]
  },
  {
   "cell_type": "markdown",
   "metadata": {},
   "source": [
    "On peut forcer le type de certaines variables. Par exemple b = str(6) est une chaîne de caractères qui contient le caractère 6, et non pas le nombre, et ne peut donc pas être employé dans un calcul."
   ]
  },
  {
   "cell_type": "markdown",
   "metadata": {},
   "source": [
    "## II/ Les instructions"
   ]
  },
  {
   "cell_type": "markdown",
   "metadata": {},
   "source": [
    "### 1. Les conditions"
   ]
  },
  {
   "cell_type": "markdown",
   "metadata": {},
   "source": [
    "Quelques exemples pour comprendre la syntaxe (**if** signifie *si*, **else** signifie *sinon* et **elif** correspond à la contraction des deux)."
   ]
  },
  {
   "cell_type": "code",
   "execution_count": null,
   "metadata": {},
   "outputs": [],
   "source": [
    "a = 3\n",
    "if a > 2:\n",
    "    a = a + 1\n",
    "print(a)"
   ]
  },
  {
   "cell_type": "markdown",
   "metadata": {},
   "source": [
    "Mais"
   ]
  },
  {
   "cell_type": "code",
   "execution_count": null,
   "metadata": {},
   "outputs": [],
   "source": [
    "a = 1\n",
    "if a > 2:\n",
    "    a = a + 1\n",
    "print(a)"
   ]
  },
  {
   "cell_type": "code",
   "execution_count": null,
   "metadata": {},
   "outputs": [],
   "source": [
    "a = 0\n",
    "if a > 2:\n",
    "    a = a + 1\n",
    "else:\n",
    "    a = a - 1\n",
    "print(a)"
   ]
  },
  {
   "cell_type": "code",
   "execution_count": null,
   "metadata": {},
   "outputs": [],
   "source": [
    "a = -5\n",
    "if a > 2:\n",
    "    a = a + 1\n",
    "elif a < 0:\n",
    "    a = - a\n",
    "else:\n",
    "    a = a - 1\n",
    "print(a)"
   ]
  },
  {
   "cell_type": "markdown",
   "metadata": {},
   "source": [
    "Avez-vous compris l'essentiel ? C'est le décalage des lignes les unes par rapport aux autres (appelé *indentation*) qui détermine quelles instructions sont à faire suivant quelle condition.\n",
    "Le retour à la ligne est l'équivalent de la fin de l'instruction."
   ]
  },
  {
   "cell_type": "markdown",
   "metadata": {},
   "source": [
    "Vous avez peut-être également remarqué que les lignes d'instructions se terminent par **:** , ce sera toujours le cas, si cela est oublié vous aurez affaire à une erreur de syntaxe."
   ]
  },
  {
   "cell_type": "markdown",
   "metadata": {},
   "source": [
    "### 2. Les boucles bornées"
   ]
  },
  {
   "cell_type": "markdown",
   "metadata": {},
   "source": [
    "**for** signifie *pour*, et l'étendue est définie par la commande **range**. Quelques exemples pour comprendre son fonctionnement."
   ]
  },
  {
   "cell_type": "code",
   "execution_count": null,
   "metadata": {},
   "outputs": [],
   "source": [
    "for i in range(6):\n",
    "       print(i)"
   ]
  },
  {
   "cell_type": "code",
   "execution_count": null,
   "metadata": {},
   "outputs": [],
   "source": [
    "for i in range(2, 6):\n",
    "       print(i)"
   ]
  },
  {
   "cell_type": "code",
   "execution_count": null,
   "metadata": {},
   "outputs": [],
   "source": [
    "for i in range(6, 2):\n",
    "       print(i)"
   ]
  },
  {
   "cell_type": "markdown",
   "metadata": {},
   "source": [
    "Tout va bien, il est normal que rien ne se produise."
   ]
  },
  {
   "cell_type": "code",
   "execution_count": null,
   "metadata": {},
   "outputs": [],
   "source": [
    "for i in range(0, 6, 2):\n",
    "       print(i)"
   ]
  },
  {
   "cell_type": "code",
   "execution_count": null,
   "metadata": {},
   "outputs": [],
   "source": [
    "for i in range(-4, 7, 2):\n",
    "       print(i)"
   ]
  },
  {
   "cell_type": "code",
   "execution_count": null,
   "metadata": {},
   "outputs": [],
   "source": [
    "for i in range(0, 1, 0.1):\n",
    "       print(i)"
   ]
  },
  {
   "cell_type": "markdown",
   "metadata": {},
   "source": [
    "Cette erreur est également normale."
   ]
  },
  {
   "cell_type": "code",
   "execution_count": null,
   "metadata": {},
   "outputs": [],
   "source": [
    "for i in range(6, 2, -1):\n",
    "       print(i)"
   ]
  },
  {
   "cell_type": "markdown",
   "metadata": {},
   "source": [
    "Cette commande est très importante et bien comprendre son fonctionnement est capital.\n",
    "Elle n'accepte en paramètres que des entiers. On peut lui donner 1, 2 ou 3 paramètres selon le résultat souhaité :\n",
    "* Avec un seul paramètre, **range(n)** va donner tous les nombres entiers en commençant à 0, en augmentant de 1 en 1, et en s'arrêtant au dernier avant n donc à n-1.\n",
    "* Avec deux paramètres, **range(debut, fin)** va donner tous les nombres entiers de 1 en 1 en commençant par le nombre **debut** et en s'arrêtant *avant* le nombre **fin**.\n",
    "* Avec trois paramètres, **range(debut, fin, pas)** va donner tous les nombres de **debut** à juste avant **fin** en comptant de **pas** en **pas**."
   ]
  },
  {
   "cell_type": "markdown",
   "metadata": {},
   "source": [
    "### 3. Les boucles non bornées"
   ]
  },
  {
   "cell_type": "markdown",
   "metadata": {},
   "source": [
    "**while** signifie *tant que* et nécessite d'être suivie par un booléen. Voici comment écrire quelques tests."
   ]
  },
  {
   "cell_type": "markdown",
   "metadata": {},
   "source": [
    "== est le test d'égalité."
   ]
  },
  {
   "cell_type": "code",
   "execution_count": null,
   "metadata": {},
   "outputs": [],
   "source": [
    "5 == 4, 5 == 4 + 1"
   ]
  },
  {
   "cell_type": "markdown",
   "metadata": {},
   "source": [
    "Les symboles > et < sont utilisés pour signifier *plus grand que* et *plus petit que*. Ils peuvent être suivis immédiatement d'un signe = pour signifier *plus grand ou égal* et *plus petit ou égal*."
   ]
  },
  {
   "cell_type": "code",
   "execution_count": null,
   "metadata": {},
   "outputs": [],
   "source": [
    "5 > 4, 5 < 4, 5 >= 4 + 1"
   ]
  },
  {
   "cell_type": "markdown",
   "metadata": {},
   "source": [
    "Le symbole *différent* est représenté par !="
   ]
  },
  {
   "cell_type": "code",
   "execution_count": null,
   "metadata": {},
   "outputs": [],
   "source": [
    "5 != 4, 6 != 3 + 3"
   ]
  },
  {
   "cell_type": "code",
   "execution_count": null,
   "metadata": {},
   "outputs": [],
   "source": [
    "n = 1\n",
    "while n < 10:\n",
    "    n = n*2\n",
    "    print(n)"
   ]
  },
  {
   "cell_type": "markdown",
   "metadata": {},
   "source": [
    "Attention avec les boucles non bornées, il faut s'assurer que la condition d'arrêt va bien être réalisée avant de lancer l'exécution, sinon le programme part dans une boucle infinie !"
   ]
  },
  {
   "cell_type": "markdown",
   "metadata": {},
   "source": [
    "## III/ Les opérations"
   ]
  },
  {
   "cell_type": "markdown",
   "metadata": {},
   "source": [
    "### 1. Opérations sur les nombres"
   ]
  },
  {
   "cell_type": "markdown",
   "metadata": {},
   "source": [
    "L'addition, la soustraction et la multiplication sont représentées respectivement par +, - et * et peuvent s'appliquer aussi bien à des entiers qu'à des flottants.\n",
    "La division décimale est représentée par /. Elle peut s'appliquer à des entiers et à des flottants mais le résultat sera un flottant, même si sa partie décimale est nulle.\n",
    "Pour la division euclidienne, // permet d'obtenir le quotient et % permet d'obtenir le reste.\n",
    "Une puissance est obtenue grâce à ** (à éviter avec les flottants pour des raisons d'arrondis)."
   ]
  },
  {
   "cell_type": "code",
   "execution_count": null,
   "metadata": {},
   "outputs": [],
   "source": [
    "4 - 2, 5.4 + 2.9, 4 * 1.2, 4 / 2, 4 // 2, 1.1 / 0.4 , 11 // 3, 11 % 3, 2 ** 5"
   ]
  },
  {
   "cell_type": "markdown",
   "metadata": {},
   "source": [
    "### 2. Opérations sur les chaînes de caractères"
   ]
  },
  {
   "cell_type": "markdown",
   "metadata": {},
   "source": [
    "Le symbole + permet de concaténer des chaînes de caractères, c'est-à-dire de les mettre bout à bout."
   ]
  },
  {
   "cell_type": "code",
   "execution_count": null,
   "metadata": {},
   "outputs": [],
   "source": [
    "\"licorne\"+'rose'"
   ]
  },
  {
   "cell_type": "markdown",
   "metadata": {},
   "source": [
    "(Remarquez qu'ici j'ai utilisé des guillemets doubles pour le premier mot et des guillemets simples (apostrophes) pour le deuxième, mais qu'ils ont quand même été interprétés de la même façon)"
   ]
  },
  {
   "cell_type": "markdown",
   "metadata": {},
   "source": [
    "Le symbole * suivi d'un entier permet de répéter la chaîne de caractères un certain nombre de fois."
   ]
  },
  {
   "cell_type": "code",
   "execution_count": null,
   "metadata": {},
   "outputs": [],
   "source": [
    "'bla'*10"
   ]
  },
  {
   "cell_type": "markdown",
   "metadata": {},
   "source": [
    "Un retour à la ligne est effectué par \\n."
   ]
  },
  {
   "cell_type": "code",
   "execution_count": null,
   "metadata": {},
   "outputs": [],
   "source": [
    "print('a\\nb')"
   ]
  }
 ],
 "metadata": {
  "celltoolbar": "Format de la Cellule Texte Brut",
  "kernelspec": {
   "display_name": "Python 3",
   "language": "python",
   "name": "python3"
  },
  "language_info": {
   "codemirror_mode": {
    "name": "ipython",
    "version": 3
   },
   "file_extension": ".py",
   "mimetype": "text/x-python",
   "name": "python",
   "nbconvert_exporter": "python",
   "pygments_lexer": "ipython3",
   "version": "3.7.3"
  }
 },
 "nbformat": 4,
 "nbformat_minor": 2
}
